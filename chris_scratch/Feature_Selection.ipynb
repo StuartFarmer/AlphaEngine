{
 "cells": [
  {
   "cell_type": "markdown",
   "metadata": {},
   "source": [
    "The goal of this notebook is to perform feature selection.\n",
    "Feature selection becomes relevant after the feature engineering stage. Feature engineering in our pipeline should in the end be automatic. So there has to be a method for selection of best-performing and un-correlated features. Selection of appropriate features also serves as a method for dimensionality reduction. It's a waste of compute to use correlated features in any model. It also decreases complexity and improves readability.\n",
    "\n",
    "In feature selection, we strive to meet two goals:\n",
    "\n",
    "Strength: Choose the features with the strongest, most persistent relationships to the target outcome variable. The reasons for this are obvious.\n",
    "\n",
    "Orthogonality: Minimize the amount of overlap or collinearity in your selected features.\n",
    "\n"
   ]
  },
  {
   "cell_type": "code",
   "execution_count": 1,
   "metadata": {},
   "outputs": [],
   "source": [
    "import numpy as np\n",
    "import csv\n",
    "from datetime import datetime\n",
    "\n",
    "\n",
    "# The basic CSV instrument. We'll abstract this later when we need it\n",
    "class FileInstrument:\n",
    "    def __init__(self, filename, load=True):\n",
    "        self.datetime_format = '%d-%b-%Y'\n",
    "        self.column_names = ['day', 'month', 'year', 'open', 'high', 'low', 'close', 'volume', 'forward_returns']\n",
    "        self.column_set = set(self.column_names)\n",
    "\n",
    "        self.data = None\n",
    "\n",
    "        if load:\n",
    "            self.load_file(filename)\n",
    "\n",
    "    def load_file(self, filename):\n",
    "        with open(filename) as f:\n",
    "            item = []\n",
    "            reader = csv.reader(f)\n",
    "            for row in reader:\n",
    "                _row = self.format_row(*row)\n",
    "                item.append(_row)\n",
    "\n",
    "        item = np.array(item)\n",
    "        returns = np.expand_dims(np.diff(item[:, -2], append=item[:, -2][-1]), axis=1)\n",
    "\n",
    "        items_with_returns = np.hstack((item, returns))\n",
    "        self.data = items_with_returns\n",
    "\n",
    "    def format_row(self, *args):\n",
    "        date = datetime.strptime(args[0], self.datetime_format)\n",
    "        o = float(args[1])\n",
    "        h = float(args[2])\n",
    "        l = float(args[3])\n",
    "        c = float(args[4])\n",
    "        v = int(args[5])\n",
    "\n",
    "        return [date.day, date.month, date.year, o, h, l, c, v]\n",
    "\n",
    "    def attach_feature(self, feature, name):\n",
    "        assert name not in self.column_set, f'Feature named \"{name}\" already exists!'\n",
    "\n",
    "        self.column_set.add(name)\n",
    "        self.column_names.append(name)\n",
    "\n",
    "        f = np.expand_dims(feature, axis=1)\n",
    "        self.data = np.hstack((self.data, f))\n",
    "\n",
    "    @property\n",
    "    def features(self):\n",
    "        return self.column_names\n",
    "\n",
    "    def __getitem__(self, key):\n",
    "        if type(key) == str:\n",
    "            idx = self.column_names.index(key)\n",
    "            return self.data[:, idx]\n",
    "\n",
    "        return self.data.__getitem__(key)\n",
    "\n",
    "    def __repr__(self):\n",
    "        return self.data.__repr__()\n"
   ]
  },
  {
   "cell_type": "code",
   "execution_count": 2,
   "metadata": {},
   "outputs": [],
   "source": [
    "import numpy as np\n",
    "import random\n",
    "import scipy.stats as stat\n",
    "# import data_ingest\n",
    "import csv\n",
    "import glob\n",
    "import os.path\n",
    "from os import path\n",
    "from datetime import datetime\n",
    "\n",
    "# Load data\n",
    "\n",
    "asset = FileInstrument('../data/aapl.csv')"
   ]
  },
  {
   "cell_type": "code",
   "execution_count": 3,
   "metadata": {},
   "outputs": [],
   "source": [
    "def rolling_window(a, window_size):\n",
    "    shape = (a.shape[0] - window_size + 1, window_size) + a.shape[1:]\n",
    "    strides = (a.strides[0],) + a.strides\n",
    "    x = np.ones((window_size - 1, window_size)) * np.nan\n",
    "    return np.vstack((x, np.lib.stride_tricks.as_strided(a, shape=shape, strides=strides)))\n",
    "\n",
    "def tn_returns(asset, n=5):\n",
    "    x = rolling_window(asset['forward_returns'], window_size=n+1)\n",
    "    return x[:,-1]-x[:,0]"
   ]
  },
  {
   "cell_type": "code",
   "execution_count": 4,
   "metadata": {
    "tags": []
   },
   "outputs": [],
   "source": [
    "# We already have \"forward_returns (t+1)\" in the \"forward_returns\" column of the matrix. But let's add some more lookahead spots to use in our analysis.\n",
    "# The attach_feature is used for this, it might not be the best solution, but it does the job.\n",
    "\n",
    "t1_returns = tn_returns(asset,1)\n",
    "t5_returns = tn_returns(asset,5)\n",
    "t10_returns = tn_returns(asset,10)\n",
    "t20_returns = tn_returns(asset,20)\n",
    "\n",
    "asset.attach_feature(t1_returns, 't1_returns')\n",
    "asset.attach_feature(t5_returns, 't5_returns')\n",
    "asset.attach_feature(t10_returns, 't10_returns')\n",
    "asset.attach_feature(t20_returns, 't20_returns')"
   ]
  },
  {
   "cell_type": "code",
   "execution_count": 5,
   "metadata": {},
   "outputs": [
    {
     "name": "stdout",
     "output_type": "stream",
     "text": [
      "      t1_returns  t5_returns  t10_returns  t20_returns\n",
      "0            NaN         NaN          NaN          NaN\n",
      "1         0.3907         NaN          NaN          NaN\n",
      "2        -0.3750         NaN          NaN          NaN\n",
      "3         0.4821         NaN          NaN          NaN\n",
      "4        -0.2232         NaN          NaN          NaN\n",
      "...          ...         ...          ...          ...\n",
      "5214     -2.1300        0.00         0.67         4.71\n",
      "5215      6.7000        1.06         6.42         0.57\n",
      "5216     -9.6200       -2.81        -2.34        -8.05\n",
      "5217      5.2900        0.65        -2.19         6.16\n",
      "5218     -2.3700       -2.13        -0.27        -1.56\n",
      "\n",
      "[5219 rows x 4 columns]\n"
     ]
    }
   ],
   "source": [
    "import pandas as pd\n",
    "\n",
    "outcomes = pd.DataFrame(asset[:, -4:])\n",
    "outcomes.columns =  asset.features[-4:]\n",
    "print(outcomes)"
   ]
  },
  {
   "cell_type": "code",
   "execution_count": 6,
   "metadata": {},
   "outputs": [],
   "source": [
    "# Create features\n",
    "\n",
    "import talib as ta\n",
    "\n",
    "open = asset['open']\n",
    "high = asset['high']\n",
    "low = asset['low']\n",
    "close = asset['close']\n",
    "\n",
    "asset.attach_feature(ta.RSI(close, 14), 'RSI_14')\n",
    "asset.attach_feature(ta.EMA(close, 20), 'EMA_20')\n",
    "asset.attach_feature(ta.ATR(high,low,close, 20), 'ATR_20')\n",
    "asset.attach_feature(ta.MOM(close, 10), 'MOM_10')"
   ]
  },
  {
   "cell_type": "code",
   "execution_count": 7,
   "metadata": {},
   "outputs": [
    {
     "name": "stdout",
     "output_type": "stream",
     "text": [
      "         RSI_14      EMA_20    ATR_20  MOM_10\n",
      "0           NaN         NaN       NaN     NaN\n",
      "1           NaN         NaN       NaN     NaN\n",
      "2           NaN         NaN       NaN     NaN\n",
      "3           NaN         NaN       NaN     NaN\n",
      "4           NaN         NaN       NaN     NaN\n",
      "...         ...         ...       ...     ...\n",
      "5214  81.005039  280.206151  4.125802   13.24\n",
      "5215  81.005039  281.486517  3.919512   13.91\n",
      "5216  84.955717  283.283040  4.071037   20.33\n",
      "5217  77.400139  284.630369  4.071485   17.99\n",
      "5218  79.030254  286.075096  4.228411   15.80\n",
      "\n",
      "[5219 rows x 4 columns]\n"
     ]
    }
   ],
   "source": [
    "import pandas as pd\n",
    "\n",
    "features = pd.DataFrame(asset[:, -4:])\n",
    "features.columns =  asset.features[-4:]\n",
    "print(features)"
   ]
  },
  {
   "cell_type": "code",
   "execution_count": 8,
   "metadata": {},
   "outputs": [
    {
     "name": "stdout",
     "output_type": "stream",
     "text": [
      "        RSI_14    EMA_20    ATR_20    MOM_10\n",
      "5194  1.961477  3.439115  2.328559  2.915269\n",
      "5195  1.961477  3.459044  2.163566  3.069251\n",
      "5196  2.257347  3.487008  2.284757  4.544714\n",
      "5197  1.691502  3.507980  2.285116  4.006928\n",
      "5198  1.813583  3.530468  2.410627  3.503616\n",
      "      t1_returns  t5_returns  t10_returns  t20_returns\n",
      "5194   -1.108789   -0.000637     0.352510     2.526265\n",
      "5195    3.487773    0.561987     3.391225     0.302856\n",
      "5196   -5.007799   -1.492121    -1.238192    -4.326560\n",
      "5197    2.753781    0.344368    -1.158921     3.304995\n",
      "5198   -1.233724   -1.131193    -0.144254    -0.841072\n"
     ]
    }
   ],
   "source": [
    "import seaborn as sns\n",
    "\n",
    "import matplotlib.pyplot as plt\n",
    "%matplotlib inline\n",
    "from IPython.display import display\n",
    "\n",
    "from scipy.cluster import hierarchy\n",
    "from scipy.spatial import distance\n",
    "\n",
    "from sklearn.preprocessing import StandardScaler,Normalizer\n",
    "\n",
    "import pandas as pd\n",
    "\n",
    "# standardize or normalize data \n",
    "std_scaler = StandardScaler()\n",
    "\n",
    "# standardize features\n",
    "features_scaled = std_scaler.fit_transform(features.dropna()) \n",
    "df = pd.DataFrame(features_scaled)\n",
    "df.columns = features.dropna().columns\n",
    "print(df.tail())\n",
    "\n",
    "# standardize outcomes as well\n",
    "outcomes_scaled = std_scaler.fit_transform(outcomes.dropna()) \n",
    "outcomes_scaled = pd.DataFrame(outcomes_scaled)\n",
    "outcomes_scaled.columns = outcomes.columns\n",
    "print(outcomes_scaled.tail())\n",
    "\n",
    "\n"
   ]
  },
  {
   "cell_type": "code",
   "execution_count": 9,
   "metadata": {},
   "outputs": [
    {
     "data": {
      "text/plain": [
       "<matplotlib.axes._subplots.AxesSubplot at 0x7fdd6c83cba8>"
      ]
     },
     "execution_count": 9,
     "metadata": {},
     "output_type": "execute_result"
    },
    {
     "data": {
      "image/png": "[encoded data removed]",
      "text/plain": [
       "<Figure size 432x288 with 1 Axes>"
      ]
     },
     "metadata": {
      "needs_background": "light"
     },
     "output_type": "display_data"
    }
   ],
   "source": [
    "# Strenght of correlation between all features dependent variable (t+1 returns)\n",
    "\n",
    "corr_t1 = df.corrwith(outcomes['t1_returns'])\n",
    "corr_t1.sort_values().plot.barh(color = 'blue',title = 'Strength of Correlation')"
   ]
  },
  {
   "cell_type": "code",
   "execution_count": 10,
   "metadata": {},
   "outputs": [
    {
     "data": {
      "text/plain": [
       "<matplotlib.axes._subplots.AxesSubplot at 0x7fdd6c87d048>"
      ]
     },
     "execution_count": 10,
     "metadata": {},
     "output_type": "execute_result"
    },
    {
     "data": {
      "image/png": "[encoded data removed]",
      "text/plain": [
       "<Figure size 432x288 with 1 Axes>"
      ]
     },
     "metadata": {
      "needs_background": "light"
     },
     "output_type": "display_data"
    }
   ],
   "source": [
    "# Strenght of correlation between all features dependent variable (t+5 returns)\n",
    "\n",
    "corr_t5 = df.corrwith(outcomes['t5_returns'])\n",
    "corr_t5.sort_values().plot.barh(color = 'blue',title = 'Strength of Correlation')"
   ]
  },
  {
   "cell_type": "code",
   "execution_count": 11,
   "metadata": {},
   "outputs": [
    {
     "data": {
      "text/plain": [
       "<matplotlib.axes._subplots.AxesSubplot at 0x7fdd6c8afdd8>"
      ]
     },
     "execution_count": 11,
     "metadata": {},
     "output_type": "execute_result"
    },
    {
     "data": {
      "image/png": "[encoded data removed]",
      "text/plain": [
       "<Figure size 432x288 with 1 Axes>"
      ]
     },
     "metadata": {
      "needs_background": "light"
     },
     "output_type": "display_data"
    }
   ],
   "source": [
    "# Strenght of correlation between all features dependent variable (t+10 returns)\n",
    "\n",
    "corr_t10 = df.corrwith(outcomes['t10_returns'])\n",
    "corr_t10.sort_values().plot.barh(color = 'blue',title = 'Strength of Correlation')"
   ]
  },
  {
   "cell_type": "code",
   "execution_count": 12,
   "metadata": {},
   "outputs": [
    {
     "data": {
      "text/plain": [
       "<matplotlib.axes._subplots.AxesSubplot at 0x7fdd6caa1e80>"
      ]
     },
     "execution_count": 12,
     "metadata": {},
     "output_type": "execute_result"
    },
    {
     "data": {
      "image/png": "[encoded data removed]",
      "text/plain": [
       "<Figure size 432x288 with 1 Axes>"
      ]
     },
     "metadata": {
      "needs_background": "light"
     },
     "output_type": "display_data"
    }
   ],
   "source": [
    "# Strenght of correlation between all features dependent variable (t+20 returns)\n",
    "\n",
    "corr_t20 = df.corrwith(outcomes['t20_returns'])\n",
    "corr_t20.sort_values().plot.barh(color = 'blue',title = 'Strength of Correlation')"
   ]
  },
  {
   "cell_type": "code",
   "execution_count": 13,
   "metadata": {},
   "outputs": [
    {
     "data": {
      "image/png": "[encoded data removed]",
      "text/plain": [
       "<Figure size 720x720 with 4 Axes>"
      ]
     },
     "metadata": {
      "needs_background": "light"
     },
     "output_type": "display_data"
    }
   ],
   "source": [
    "# Plot a heatmap to visualize correlation between features.\n",
    "\n",
    "corr_matrix = df.corr()\n",
    "correlations_array = np.asarray(corr_matrix)\n",
    "\n",
    "linkage = hierarchy.linkage(distance.pdist(correlations_array), \\\n",
    "                            method='average')\n",
    "\n",
    "g = sns.clustermap(corr_matrix,row_linkage=linkage,col_linkage=linkage,\\\n",
    "                   row_cluster=True,col_cluster=True,figsize=(10,10),cmap='Greens')\n",
    "plt.setp(g.ax_heatmap.yaxis.get_majorticklabels(), rotation=0)\n",
    "plt.show()\n",
    "\n",
    "label_order = corr_matrix.iloc[:,g.dendrogram_row.reordered_ind].columns"
   ]
  },
  {
   "cell_type": "markdown",
   "metadata": {},
   "source": [
    "A we can see, there are clusters of features that are similar to each other."
   ]
  },
  {
   "cell_type": "markdown",
   "metadata": {},
   "source": [
    "Now, Let's next focus in only on those features with correlation strenghts of greater than 0.0003 to exclude the noise and weak features. (For t+20)"
   ]
  },
  {
   "cell_type": "code",
   "execution_count": 14,
   "metadata": {},
   "outputs": [
    {
     "data": {
      "text/plain": [
       "RSI_14    0.057404\n",
       "EMA_20   -0.002388\n",
       "ATR_20   -0.014275\n",
       "MOM_10    0.041117\n",
       "dtype: float64"
      ]
     },
     "execution_count": 14,
     "metadata": {},
     "output_type": "execute_result"
    }
   ],
   "source": [
    "corr_t20"
   ]
  },
  {
   "cell_type": "code",
   "execution_count": 15,
   "metadata": {},
   "outputs": [
    {
     "data": {
      "image/png": "[encoded data removed]",
      "text/plain": [
       "<Figure size 432x432 with 4 Axes>"
      ]
     },
     "metadata": {
      "needs_background": "light"
     },
     "output_type": "display_data"
    },
    {
     "name": "stdout",
     "output_type": "stream",
     "text": [
      "Correlation Strength:\n",
      "RSI_14    0.057404\n",
      "MOM_10    0.041117\n",
      "dtype: float64\n"
     ]
    }
   ],
   "source": [
    "correlated_features = corr_t20[corr_t20>0.0003].index.tolist()\n",
    "corr_matrix = df[correlated_features].corr()\n",
    "correlations_array = np.asarray(corr_matrix)\n",
    "\n",
    "linkage = hierarchy.linkage(distance.pdist(correlations_array), \\\n",
    "                            method='average')\n",
    "\n",
    "g = sns.clustermap(corr_matrix,row_linkage=linkage,col_linkage=linkage,\\\n",
    "                   row_cluster=True,col_cluster=True,figsize=(6,6),cmap='Greens')\n",
    "plt.setp(g.ax_heatmap.yaxis.get_majorticklabels(), rotation=0)\n",
    "plt.show()\n",
    "\n",
    "label_order = corr_matrix.iloc[:,g.dendrogram_row.reordered_ind].columns\n",
    "print(\"Correlation Strength:\")\n",
    "print(corr_t20[corr_t20>0.0003].sort_values(ascending=False))"
   ]
  },
  {
   "cell_type": "markdown",
   "metadata": {},
   "source": [
    "ATR(20) got filtered out."
   ]
  },
  {
   "cell_type": "markdown",
   "metadata": {},
   "source": [
    "We'll follow a simple heuristic to manually select the features.\n",
    "\n",
    "Step 1: Take the most strongly correlated feature (MOM_10) and add it to our list of selected features.\n",
    "\n",
    "Step 2: Take the second correlated feature (RSI_14) and check to see if it's closely correlated (neighboring in the clustermap) to any features already chosen. If no, add to the list. If yes, discard.\n",
    "\n",
    "Step 3: Repeat this process until either (1) we've reached the target feature count, or (2) we've run out strongly correlated features.\n",
    "\n",
    "We should encode this heuristic into an algorithm to do the selections.\n",
    "\n",
    "Following this heuristic, I get the below features:"
   ]
  },
  {
   "cell_type": "code",
   "execution_count": 16,
   "metadata": {},
   "outputs": [
    {
     "name": "stderr",
     "output_type": "stream",
     "text": [
      "/Library/Frameworks/Python.framework/Versions/3.6/lib/python3.6/site-packages/seaborn/axisgrid.py:2071: UserWarning: The `size` parameter has been renamed to `height`; please update your code.\n",
      "  warnings.warn(msg, UserWarning)\n"
     ]
    },
    {
     "data": {
      "text/plain": [
       "<seaborn.axisgrid.PairGrid at 0x7fdd6c8b3390>"
      ]
     },
     "execution_count": 16,
     "metadata": {},
     "output_type": "execute_result"
    },
    {
     "data": {
      "image/png": "[encoded data removed]",
      "text/plain": [
       "<Figure size 216x216 with 6 Axes>"
      ]
     },
     "metadata": {
      "needs_background": "light"
     },
     "output_type": "display_data"
    }
   ],
   "source": [
    "# RSI got filtered out because it's very correlated with MOM. Both are momentum indicators, so that makes sense.\n",
    "\n",
    "selected_features = ['MOM_10','EMA_20']\n",
    "\n",
    "import seaborn as sns\n",
    "\n",
    "sns.pairplot(df[selected_features],size=1.5)"
   ]
  },
  {
   "cell_type": "code",
   "execution_count": 17,
   "metadata": {},
   "outputs": [
    {
     "data": {
      "image/png": "[encoded data removed]",
      "text/plain": [
       "<Figure size 432x432 with 4 Axes>"
      ]
     },
     "metadata": {
      "needs_background": "light"
     },
     "output_type": "display_data"
    }
   ],
   "source": [
    "corr_matrix = df[selected_features].corr()\n",
    "correlations_array = np.asarray(corr_matrix)\n",
    "\n",
    "linkage = hierarchy.linkage(distance.pdist(correlations_array), method='average')\n",
    "\n",
    "g = sns.clustermap(corr_matrix,row_linkage=linkage,col_linkage=linkage,\\\n",
    "                   row_cluster=True,col_cluster=True,figsize=(6,6),cmap='Greens')\n",
    "plt.setp(g.ax_heatmap.yaxis.get_majorticklabels(), rotation=0)\n",
    "plt.show()\n",
    "\n",
    "label_order = corr_matrix.iloc[:,g.dendrogram_row.reordered_ind].columns"
   ]
  },
  {
   "cell_type": "markdown",
   "metadata": {},
   "source": [
    "As we can see correlations between MOM_10 and EMA_20 is low."
   ]
  },
  {
   "cell_type": "code",
   "execution_count": 18,
   "metadata": {},
   "outputs": [],
   "source": [
    "# Plot the rolling correlation between the selected features.\n",
    "# Correlations aren't forever in time-series data"
   ]
  },
  {
   "cell_type": "code",
   "execution_count": 19,
   "metadata": {},
   "outputs": [
    {
     "data": {
      "text/plain": [
       "[<matplotlib.lines.Line2D at 0x7fdd6d8550b8>]"
      ]
     },
     "execution_count": 19,
     "metadata": {},
     "output_type": "execute_result"
    },
    {
     "data": {
      "image/png": "[encoded data removed]",
      "text/plain": [
       "<Figure size 432x288 with 1 Axes>"
      ]
     },
     "metadata": {
      "needs_background": "light"
     },
     "output_type": "display_data"
    }
   ],
   "source": [
    "plt.plot(outcomes_scaled[-100:])\n",
    "plt.plot(selected_features[-100:])"
   ]
  },
  {
   "cell_type": "code",
   "execution_count": null,
   "metadata": {},
   "outputs": [],
   "source": []
  }
 ],
 "metadata": {
  "kernelspec": {
   "display_name": "Python 3",
   "language": "python",
   "name": "python3"
  },
  "language_info": {
   "codemirror_mode": {
    "name": "ipython",
    "version": 3
   },
   "file_extension": ".py",
   "mimetype": "text/x-python",
   "name": "python",
   "nbconvert_exporter": "python",
   "pygments_lexer": "ipython3",
   "version": "3.6.5"
  }
 },
 "nbformat": 4,
 "nbformat_minor": 2
}
